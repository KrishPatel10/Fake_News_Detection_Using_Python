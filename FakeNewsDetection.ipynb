{
 "cells": [
  {
   "cell_type": "code",
   "execution_count": 2,
   "id": "fb70c378",
   "metadata": {},
   "outputs": [
    {
     "name": "stdout",
     "output_type": "stream",
     "text": [
      "Requirement already satisfied: nltk in e:\\programs\\anaconda\\lib\\site-packages (3.6.5)\n",
      "Requirement already satisfied: click in e:\\programs\\anaconda\\lib\\site-packages (from nltk) (8.0.3)\n",
      "Requirement already satisfied: joblib in e:\\programs\\anaconda\\lib\\site-packages (from nltk) (1.1.0)\n",
      "Requirement already satisfied: regex>=2021.8.3 in e:\\programs\\anaconda\\lib\\site-packages (from nltk) (2021.8.3)\n",
      "Requirement already satisfied: tqdm in e:\\programs\\anaconda\\lib\\site-packages (from nltk) (4.62.3)\n",
      "Requirement already satisfied: colorama in e:\\programs\\anaconda\\lib\\site-packages (from click->nltk) (0.4.4)\n",
      "Note: you may need to restart the kernel to use updated packages.\n"
     ]
    }
   ],
   "source": [
    "pip install nltk"
   ]
  },
  {
   "cell_type": "code",
   "execution_count": 3,
   "id": "7e0db08a",
   "metadata": {},
   "outputs": [],
   "source": [
    "import nltk "
   ]
  },
  {
   "cell_type": "code",
   "execution_count": 4,
   "id": "d3429208",
   "metadata": {},
   "outputs": [
    {
     "name": "stderr",
     "output_type": "stream",
     "text": [
      "[nltk_data] Downloading package punkt to\n",
      "[nltk_data]     C:\\Users\\krish\\AppData\\Roaming\\nltk_data...\n",
      "[nltk_data]   Package punkt is already up-to-date!\n"
     ]
    },
    {
     "data": {
      "text/plain": [
       "True"
      ]
     },
     "execution_count": 4,
     "metadata": {},
     "output_type": "execute_result"
    }
   ],
   "source": [
    "nltk.download('punkt')"
   ]
  },
  {
   "cell_type": "code",
   "execution_count": 7,
   "id": "7987d593",
   "metadata": {},
   "outputs": [],
   "source": [
    "import pandas as pd\n",
    "\n",
    "fake = pd.read_csv(\"Fake.csv\")\n",
    "gen = pd.read_csv(\"True.csv\")\n",
    "\n",
    "#display(fake.info())"
   ]
  },
  {
   "cell_type": "code",
   "execution_count": 8,
   "id": "d87f3444",
   "metadata": {},
   "outputs": [],
   "source": [
    "#display(gen.head(10))\n",
    "#to see general look of csv"
   ]
  },
  {
   "cell_type": "code",
   "execution_count": 9,
   "id": "ac3a6fcd",
   "metadata": {},
   "outputs": [],
   "source": [
    "fake['target'] = 0\n",
    "gen['target'] = 1"
   ]
  },
  {
   "cell_type": "code",
   "execution_count": 11,
   "id": "6996258e",
   "metadata": {},
   "outputs": [],
   "source": [
    "#display(gen.head(10))\n",
    "#to check whether target column added or not"
   ]
  },
  {
   "cell_type": "code",
   "execution_count": 12,
   "id": "b66c12bd",
   "metadata": {},
   "outputs": [],
   "source": [
    "data = pd.concat([fake, gen], axis = 0)"
   ]
  },
  {
   "cell_type": "code",
   "execution_count": 14,
   "id": "1713adc7",
   "metadata": {},
   "outputs": [],
   "source": [
    "data = data.reset_index(drop = True)"
   ]
  },
  {
   "cell_type": "code",
   "execution_count": 15,
   "id": "8ec9f92a",
   "metadata": {},
   "outputs": [],
   "source": [
    "data = data.drop(['subject', 'date', 'title'], axis = 1)"
   ]
  },
  {
   "cell_type": "code",
   "execution_count": 16,
   "id": "67328206",
   "metadata": {},
   "outputs": [
    {
     "name": "stdout",
     "output_type": "stream",
     "text": [
      "Index(['text', 'target'], dtype='object')\n"
     ]
    }
   ],
   "source": [
    "print(data.columns)"
   ]
  },
  {
   "cell_type": "markdown",
   "id": "13b78aeb",
   "metadata": {},
   "source": [
    "# Tokenizing"
   ]
  },
  {
   "cell_type": "code",
   "execution_count": 17,
   "id": "977fb2f3",
   "metadata": {},
   "outputs": [],
   "source": [
    "from nltk.tokenize import word_tokenize"
   ]
  },
  {
   "cell_type": "code",
   "execution_count": 19,
   "id": "063edbc9",
   "metadata": {},
   "outputs": [],
   "source": [
    "data['text'] = data['text'].apply(word_tokenize)"
   ]
  },
  {
   "cell_type": "code",
   "execution_count": 31,
   "id": "cf570197",
   "metadata": {
    "scrolled": true
   },
   "outputs": [],
   "source": [
    "#print(data.head(10))"
   ]
  },
  {
   "cell_type": "markdown",
   "id": "18bd77e5",
   "metadata": {},
   "source": [
    "# STEMMING"
   ]
  },
  {
   "cell_type": "code",
   "execution_count": 21,
   "id": "1e4f4fb8",
   "metadata": {},
   "outputs": [],
   "source": [
    "from nltk.stem.snowball import SnowballStemmer\n",
    "porter = SnowballStemmer(\"english\")"
   ]
  },
  {
   "cell_type": "code",
   "execution_count": 22,
   "id": "e3abc1c5",
   "metadata": {},
   "outputs": [],
   "source": [
    "def stem_it(text):\n",
    "    return [porter.stem(word) for word in text]"
   ]
  },
  {
   "cell_type": "code",
   "execution_count": 23,
   "id": "8c5bcbb4",
   "metadata": {},
   "outputs": [],
   "source": [
    "data['text'] = data['text'].apply(stem_it)"
   ]
  },
  {
   "cell_type": "code",
   "execution_count": 30,
   "id": "8e738bab",
   "metadata": {},
   "outputs": [],
   "source": [
    "#print(data.head(10))"
   ]
  },
  {
   "cell_type": "markdown",
   "id": "ffcec9f4",
   "metadata": {},
   "source": [
    "# STOPWORD REMOVAL"
   ]
  },
  {
   "cell_type": "code",
   "execution_count": 26,
   "id": "727d4a26",
   "metadata": {},
   "outputs": [],
   "source": [
    "def stop_it(t):\n",
    "    dt = [word for word in t if len(word)>2]\n",
    "    return dt"
   ]
  },
  {
   "cell_type": "code",
   "execution_count": 27,
   "id": "fec7ba6b",
   "metadata": {},
   "outputs": [],
   "source": [
    "data['text'] = data['text'].apply(stop_it)"
   ]
  },
  {
   "cell_type": "code",
   "execution_count": 29,
   "id": "581260e5",
   "metadata": {},
   "outputs": [],
   "source": [
    "#print(data.head(10))"
   ]
  },
  {
   "cell_type": "code",
   "execution_count": 32,
   "id": "3e34fee5",
   "metadata": {},
   "outputs": [],
   "source": [
    "data['text'] = data['text'].apply(' '.join)"
   ]
  },
  {
   "cell_type": "markdown",
   "id": "81217eec",
   "metadata": {},
   "source": [
    "# Splitting"
   ]
  },
  {
   "cell_type": "code",
   "execution_count": 34,
   "id": "3a92f831",
   "metadata": {},
   "outputs": [
    {
     "data": {
      "text/plain": [
       "39072    beirut reuter lebanon presid stress that stabi...\n",
       "15801    the law don appli the clinton they just for th...\n",
       "1448     conserv pundit erik erikson weigh donald trump...\n",
       "11400    watch tucker carlson point out that trump paid...\n",
       "22094    tune the altern current radio network acr for ...\n",
       "Name: text, dtype: object"
      ]
     },
     "metadata": {},
     "output_type": "display_data"
    },
    {
     "name": "stdout",
     "output_type": "stream",
     "text": [
      "\n",
      "\n"
     ]
    },
    {
     "data": {
      "text/plain": [
       "39072    1\n",
       "15801    0\n",
       "1448     0\n",
       "11400    0\n",
       "22094    0\n",
       "Name: target, dtype: int64"
      ]
     },
     "metadata": {},
     "output_type": "display_data"
    }
   ],
   "source": [
    "from sklearn.model_selection import train_test_split\n",
    "X_train, X_test, Y_train, Y_test = train_test_split(data['text'],data['target'])\n",
    "#to check which data has been taken\n",
    "display(X_train.head())\n",
    "print('\\n')\n",
    "display(Y_train.head())"
   ]
  },
  {
   "cell_type": "markdown",
   "id": "d4665bab",
   "metadata": {},
   "source": [
    "# Vectorization"
   ]
  },
  {
   "cell_type": "code",
   "execution_count": 55,
   "id": "6f128e46",
   "metadata": {},
   "outputs": [],
   "source": [
    "from sklearn.feature_extraction.text import TfidfVectorizer\n",
    "my_tfidf = TfidfVectorizer(max_df = 0.7)\n",
    "\n",
    "tfidf_train = my_tfidf.fit_transform(X_train)\n",
    "tfidf_test = my_tfidf.transform(X_test)"
   ]
  },
  {
   "cell_type": "code",
   "execution_count": 56,
   "id": "0faf8982",
   "metadata": {},
   "outputs": [],
   "source": [
    "#print(tfidf_train)\n",
    "#just to check data transformation"
   ]
  },
  {
   "cell_type": "markdown",
   "id": "3328b25c",
   "metadata": {},
   "source": [
    "# Logistic Reg"
   ]
  },
  {
   "cell_type": "code",
   "execution_count": 57,
   "id": "961f7e94",
   "metadata": {},
   "outputs": [],
   "source": [
    "from sklearn.linear_model import LogisticRegression\n",
    "from sklearn.metrics import accuracy_score"
   ]
  },
  {
   "cell_type": "code",
   "execution_count": 58,
   "id": "30e538ff",
   "metadata": {},
   "outputs": [
    {
     "name": "stdout",
     "output_type": "stream",
     "text": [
      "98.83296213808464\n"
     ]
    }
   ],
   "source": [
    "model_1 = LogisticRegression(max_iter = 900)\n",
    "model_1.fit(tfidf_train, Y_train)\n",
    "pred_1 = model_1.predict(tfidf_test)\n",
    "cr1 = accuracy_score(Y_test, pred_1)\n",
    "print(cr1*100)"
   ]
  },
  {
   "cell_type": "markdown",
   "id": "5a7632b7",
   "metadata": {},
   "source": [
    "# PassiveAggressiveClassifier"
   ]
  },
  {
   "cell_type": "code",
   "execution_count": 59,
   "id": "10ccec0c",
   "metadata": {},
   "outputs": [
    {
     "data": {
      "text/plain": [
       "PassiveAggressiveClassifier(max_iter=50)"
      ]
     },
     "execution_count": 59,
     "metadata": {},
     "output_type": "execute_result"
    }
   ],
   "source": [
    "from sklearn.linear_model import PassiveAggressiveClassifier as pac\n",
    "\n",
    "model = pac(max_iter = 50)\n",
    "model.fit(tfidf_train, Y_train)\n"
   ]
  },
  {
   "cell_type": "code",
   "execution_count": 62,
   "id": "dc0bdd68",
   "metadata": {},
   "outputs": [
    {
     "name": "stdout",
     "output_type": "stream",
     "text": [
      "Accuracy of test is 99.6347438752784\n"
     ]
    }
   ],
   "source": [
    " y_pred = model.predict(tfidf_test)\n",
    "acc = accuracy_score(Y_test, y_pred)\n",
    "print(\"Accuracy of test is \" + str(acc*100))"
   ]
  }
 ],
 "metadata": {
  "kernelspec": {
   "display_name": "Python 3 (ipykernel)",
   "language": "python",
   "name": "python3"
  },
  "language_info": {
   "codemirror_mode": {
    "name": "ipython",
    "version": 3
   },
   "file_extension": ".py",
   "mimetype": "text/x-python",
   "name": "python",
   "nbconvert_exporter": "python",
   "pygments_lexer": "ipython3",
   "version": "3.9.7"
  }
 },
 "nbformat": 4,
 "nbformat_minor": 5
}
